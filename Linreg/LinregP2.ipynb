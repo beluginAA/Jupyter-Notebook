{
 "cells": [
  {
   "cell_type": "code",
   "execution_count": 10,
   "metadata": {},
   "outputs": [
    {
     "name": "stdout",
     "output_type": "stream",
     "text": [
      "вид                  |   k_1   |   223.9093980740768\n",
      "остров               |   k_2   |   -109.96029929954861\n",
      "длина клюва          |   k_3   |   -17.71502806797021\n",
      "ширина клюва         |   k_4   |   -31.750766261391\n",
      "длина плавника       |   k_5   |   31.542126722320234\n",
      "пол                  |   k_6   |   575.9491183896406\n"
     ]
    },
    {
     "data": {
      "text/plain": [
       "(264.9120129241988, 105211.59846370494)"
      ]
     },
     "execution_count": 10,
     "metadata": {},
     "output_type": "execute_result"
    }
   ],
   "source": [
    "import numpy as np\n",
    "import pandas as pd\n",
    "import matplotlib.pyplot as plt\n",
    "from sklearn.model_selection import train_test_split\n",
    "from sklearn.linear_model import LinearRegression \n",
    "from sklearn.metrics import mean_absolute_error, mean_squared_error\n",
    "from sklearn.neighbors import KNeighborsRegressor\n",
    "\n",
    "data = pd.read_csv('penguins.csv') \n",
    "X = data.drop(columns = ['масса тела']) \n",
    "y = data['масса тела']\n",
    "X_train, X_test, y_train, y_test = train_test_split(X, y, test_size = 0.15)\n",
    "lr = LinearRegression() \n",
    "lr.fit(X_train, y_train)\n",
    "for i, feature in enumerate(X_train.columns):\n",
    "    print(feature, ' '*(19-len(feature)), '|  ', 'k_'+str(i+1), '  |  ', lr.coef_[i]) #Модуль коэффициента отражает степень чувствительности модели к данному признаку, но тут лучше их перемножать, чтобы просмотреть значения (смотреть на диапазон изменения значений)\n",
    "knn = KNeighborsRegressor(n_neighbors = 5)\n",
    "knn.fit(X_train, y_train)\n",
    "y_train_predicted_knn = knn.predict(X_train)\n",
    "y_test_predicted_knn = knn.predict(X_test)\n",
    "y_train_predicted_lr = lr.predict(X_train)\n",
    "y_test_predicted_lr = lr.predict(X_test)\n",
    "mean_absolute_error(y_train_predicted_knn, y_train), mean_squared_error(y_train_predicted_knn, y_train) # Оценка модели по метрикам\n",
    "mean_absolute_error(y_train_predicted_lr, y_train), mean_squared_error(y_train_predicted_lr, y_train)"
   ]
  }
 ],
 "metadata": {
  "kernelspec": {
   "display_name": "Python 3",
   "language": "python",
   "name": "python3"
  },
  "language_info": {
   "codemirror_mode": {
    "name": "ipython",
    "version": 3
   },
   "file_extension": ".py",
   "mimetype": "text/x-python",
   "name": "python",
   "nbconvert_exporter": "python",
   "pygments_lexer": "ipython3",
   "version": "3.9.7"
  },
  "orig_nbformat": 4,
  "vscode": {
   "interpreter": {
    "hash": "c347c8f9a7ef94e4c9e03b4513be7835ed18f45b99a2a817fb579f408b867b16"
   }
  }
 },
 "nbformat": 4,
 "nbformat_minor": 2
}
