{
 "cells": [
  {
   "cell_type": "code",
   "execution_count": 49,
   "metadata": {},
   "outputs": [
    {
     "data": {
      "text/plain": [
       "0.785"
      ]
     },
     "execution_count": 49,
     "metadata": {},
     "output_type": "execute_result"
    }
   ],
   "source": [
    "import pandas as pd\n",
    "import numpy as np\n",
    "from sklearn.neighbors import KNeighborsClassifier\n",
    "from sklearn.model_selection import train_test_split\n",
    "from sklearn.metrics import accuracy_score\n",
    "from sklearn.model_selection import GridSearchCV\n",
    "import matplotlib.pyplot as plt\n",
    "# %matplotlib inline\n",
    "\n",
    "all_data = pd.read_csv('forest_dataset.csv')\n",
    "knn = KNeighborsClassifier(n_neighbors = 4, weights = 'distance', metric = 'manhattan') # У данной модели такие гиперпараметры ['algorithm', 'leaf_size', 'metric', 'metric_params', 'n_jobs', 'n_neighbors', 'p', 'weights']\n",
    "labels = all_data[all_data.columns[-1]].values\n",
    "feature_matrix = all_data[all_data.columns[:-1]].values\n",
    "train_feature_matrix, test_feature_matrix, train_labels, test_labels = train_test_split(\n",
    "    feature_matrix, labels, test_size=0.2, random_state=42)\n",
    "knn.fit(train_feature_matrix, train_labels) # обучение модели\n",
    "y_pred = knn.predict(test_feature_matrix) # предсказание на тестовой выборке\n",
    "accuracy_score(test_labels, y_pred)\n",
    "pred_prob = knn.predict_proba(test_feature_matrix) # Определение вероятности принадлежности значения к конкретному классу\n",
    "\n",
    "unique, freq = np.unique(test_labels, return_counts=True)\n",
    "freq = list(map(lambda x: x / len(test_labels),freq))\n",
    "\n",
    "pred_freq = pred_prob.mean(axis=0)\n",
    "plt.figure(figsize=(10, 8))\n",
    "plt.bar(range(1, 8), pred_freq, width=0.4, align=\"edge\", label='prediction')\n",
    "plt.bar(range(1, 8), freq, width=-0.4, align=\"edge\", label='real')\n",
    "plt.ylim(0, 0.54)\n",
    "plt.legend()\n",
    "plt.show()\n",
    "# param_grid = { # Различные гиперпараметры для оценки модели\n",
    "#     'n_neighbors' : np.arange(1, 10),  # Количество соседей\n",
    "#     'metric' : ['manhattan', 'euclidean'],  # РАзличные метрики\n",
    "#     'weights' : ['uniform', 'distance']  # Стратегии вычисления весов\n",
    "#     }\n",
    "# ''' cv - количество частей в кросс-валидации, \n",
    "#     scorring - различные метрики ошибки,\n",
    "#     n_jobs - параллельные вычисления при -1'''\n",
    "# search = GridSearchCV(knn, param_grid, n_jobs=-1, cv=5, scoring='accuracy')\n",
    "# search.fit(train_feature_matrix, train_labels)\n",
    "# print(search.best_params_) # выведем наилучшие параметры\n",
    "# accuracy_score(train_labels, search.best_estimator_.predict(train_feature_matrix))"
   ]
  }
 ],
 "metadata": {
  "kernelspec": {
   "display_name": "Python 3",
   "language": "python",
   "name": "python3"
  },
  "language_info": {
   "codemirror_mode": {
    "name": "ipython",
    "version": 3
   },
   "file_extension": ".py",
   "mimetype": "text/x-python",
   "name": "python",
   "nbconvert_exporter": "python",
   "pygments_lexer": "ipython3",
   "version": "3.9.7"
  },
  "orig_nbformat": 4,
  "vscode": {
   "interpreter": {
    "hash": "c347c8f9a7ef94e4c9e03b4513be7835ed18f45b99a2a817fb579f408b867b16"
   }
  }
 },
 "nbformat": 4,
 "nbformat_minor": 2
}
