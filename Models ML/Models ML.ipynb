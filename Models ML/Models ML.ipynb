{
 "cells": [
  {
   "cell_type": "code",
   "execution_count": 2,
   "metadata": {},
   "outputs": [
    {
     "name": "stderr",
     "output_type": "stream",
     "text": [
      "5it [00:01,  3.27it/s]"
     ]
    },
    {
     "name": "stdout",
     "output_type": "stream",
     "text": [
      "\n",
      "Metrics\n",
      "[152217947755.374, 139816382680.09613, 151517859886.62695, 125179488503.45377, 140351366344.85535]\n",
      "RMSE= 376585.46046559105\n"
     ]
    },
    {
     "name": "stderr",
     "output_type": "stream",
     "text": [
      "\n"
     ]
    }
   ],
   "source": [
    "''' Постановка задачи (предсказание цены на квартиру)\n",
    "    Обработка данных\n",
    "        Знакомство с данными\n",
    "        Поиск утечек\n",
    "        Обработка пропущенных значений\n",
    "        Обработка кателгориальных значений\n",
    "        Поиск выбросов\n",
    "    Применение KNN на полученных данных '''\n",
    "\n",
    "import pandas as pd\n",
    "import numpy as np\n",
    "import matplotlib.pyplot as plt\n",
    "from sklearn.preprocessing import StandardScaler\n",
    "from sklearn.neighbors import KNeighborsRegressor\n",
    "from sklearn.model_selection import KFold # Помогает избежать утечек\n",
    "from sklearn.metrics import mean_squared_error\n",
    "from sklearn.model_selection import cross_val_score\n",
    "from sklearn.metrics import make_scorer # Для создания собственных метрик\n",
    "from tqdm import tqdm\n",
    "\n",
    "data = pd.read_csv('melb_data.csv')\n",
    "X = data.drop(columns='Price') # Удаленик признака, который мы предсказываем\n",
    "y = data['Price']    #Признак, который мы предсказываем\n",
    "X = X.drop(columns='Method') # Удаление категориальног признака\n",
    "# X.isna().sum() - просмотр количества пустых значений по колонкам\n",
    "# X.loc[X['Car'].isna(), 'Car'] Указание значение строки пустой в столбце Car\n",
    "X.loc[X['Car'].isna(), 'Car'] = X['Car'].mean() # Подставление среднего значения по колонке в пустые\n",
    "X = X.drop(columns = 'BuildingArea') # Удаление колонки с большим количеством пустых ячеек\n",
    "X = X.drop(columns = 'CouncilArea')\n",
    "X['YearBuiltWasMissing'] = X['YearBuilt'].isna() # Добавление нового столбца, в котором указаны строки, где год постройки здания отсутствует\n",
    "X.loc[X['YearBuilt'].isna(), 'YearBuilt'] = X['YearBuilt'].mean() # Подстановка среднего года постройки в пустные ячейки\n",
    "# list(zip(X.columns, X.dtypes)) Типы данных по столбцам\n",
    "suburb_counts = X['Suburb'].value_counts() # Подсчет уникальных значений по столбцу\n",
    "is_rare_suburb = X['Suburb'].apply(lambda x: suburb_counts[x] < 200) # Замена значений, которые встречаются реже 200 раз в таблице на одно значение\n",
    "X.loc[is_rare_suburb, 'Suburb'] = 'RareSuburb'\n",
    "X = X.drop(columns = ['Address', 'SellerG', 'Date', 'Postcode'])\n",
    "X = pd.get_dummies(X, columns = ['Suburb', 'Type', 'Regionname', 'YearBuiltWasMissing']) # One-hot-encoding\n",
    "''' Cоздаём 12 графиков в окне 20, 20, команда subplots возвращает (фигуру, оси в виде матрицы). \n",
    "    Далее выбираем только оси, вытягиваем их в один массив командой flatten(). \n",
    "    В результате получаем массив из 12 объектов-графиков. В цикле выбираем 1 ось из массива осей, \n",
    "    1 числовую переменную из массива числовых переменных \n",
    "    и строим по ней бокс с усами на выбранной оси'''\n",
    "# for ax, num_col_name in zip(plt.subplots(4, 3, figsize=(20,20))[1].flatten(), ['Rooms', 'Distance', 'Bedroom2', 'Bathroom', 'Car', 'Landsize', 'YearBuilt', 'Lattitude', 'Longtitude',  'Propertycount']):\n",
    "#     ax.set_title(num_col_name)\n",
    "#     ax.boxplot(X[num_col_name]) # Выбрасывать отличающиеся значения не будем, так как алгоритм KNN устойчив к этим выбросам\n",
    "''' На последок, мы проведем стандартизацию признаков, про которую говорили раньше.\n",
    "    Сейчас мы сдлеаем очень плохую и неправильную ошибку. \n",
    "    Мы посчитаем среднее и дисперсси признаков по всему датасету, а не только по обучающей части.\n",
    "    Как вы помните, при кроссвалидации мы выделяем обучающую и валидационную часть только в самом конце, \n",
    "    поэтмоу проведя стандартизацию сейчас мы создадим утечку данных. \n",
    "    Чтобы этой утечки не допускать нужно использовать sklearn.piplines или пользоваться первым метдом \n",
    "    проведение кросс валидации, про который мы поговорим чреез KFold.'''\n",
    "scaler = StandardScaler() # Происходит утечка, но не большая, так как в данном случае это не критично\n",
    "X = scaler.fit_transform(X)\n",
    "knn = KNeighborsRegressor(5)\n",
    "cv = KFold(n_splits=5)  # Количество частей при кросс-валидации\n",
    "errors = []\n",
    "\n",
    "for train_idx, val_idx in tqdm(cv.split(X)):  # tqdm показывает как проходит операция в программе, например в цикле\n",
    "    X_train, y_train = X[train_idx], y[train_idx]\n",
    "    X_val, y_val = X[val_idx], y[val_idx]\n",
    "    \n",
    "    knn.fit(X_train, y_train)  # Можно вызывать несколько раз, каждый раз модель будет переобучаться\n",
    "    pred_val = knn.predict(X_val)\n",
    "    errors.append(\n",
    "        mean_squared_error(y_val, pred_val)\n",
    "    )\n",
    "\n",
    "print()\n",
    "print('Metrics')\n",
    "print(errors)\n",
    "print('RMSE=', np.mean(errors) ** 0.5) # Квадрат средней ошибки"
   ]
  },
  {
   "cell_type": "code",
   "execution_count": 5,
   "metadata": {},
   "outputs": [
    {
     "data": {
      "text/plain": [
       "array([0.65408053, 0.67063013, 0.64918479, 0.63602139, 0.63816684])"
      ]
     },
     "execution_count": 5,
     "metadata": {},
     "output_type": "execute_result"
    }
   ],
   "source": [
    "scores = cross_val_score(knn, X, y, cv = 5) # Возвращает значение метрики, означает, насколько хорошо работает модель\n",
    "scores"
   ]
  },
  {
   "cell_type": "code",
   "execution_count": 9,
   "metadata": {},
   "outputs": [
    {
     "name": "stdout",
     "output_type": "stream",
     "text": [
      "\n",
      "Metrics\n",
      "[-1.52217948e+11 -1.39816383e+11 -1.51517860e+11 -1.25179489e+11\n",
      " -1.40351366e+11]\n",
      "RMSE= 376585.46046559105\n"
     ]
    }
   ],
   "source": [
    "scorer = make_scorer(lambda y_true, y_pred: mean_squared_error(y_true, y_pred), greater_is_better=False) # greater_is_better (сохраняет свойство, что чем выше значение метрики, тем лучше) - чем лучше модель, тем выше средний квадрат ошибки \n",
    "errors = cross_val_score(knn, X, y, cv = 5, scoring=scorer)\n",
    "\n",
    "print()\n",
    "print('Metrics')\n",
    "print(errors)\n",
    "print('RMSE=', np.mean(-errors) ** 0.5) # Квадрат средней ошибки"
   ]
  }
 ],
 "metadata": {
  "kernelspec": {
   "display_name": "Python 3",
   "language": "python",
   "name": "python3"
  },
  "language_info": {
   "codemirror_mode": {
    "name": "ipython",
    "version": 3
   },
   "file_extension": ".py",
   "mimetype": "text/x-python",
   "name": "python",
   "nbconvert_exporter": "python",
   "pygments_lexer": "ipython3",
   "version": "3.11.2"
  },
  "orig_nbformat": 4,
  "vscode": {
   "interpreter": {
    "hash": "52634da84371cba311ea128a5ea7cdc41ff074b781779e754b270ff9f8153cee"
   }
  }
 },
 "nbformat": 4,
 "nbformat_minor": 2
}
