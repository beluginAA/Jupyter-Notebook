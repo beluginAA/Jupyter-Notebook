{
 "cells": [
  {
   "cell_type": "code",
   "execution_count": 7,
   "metadata": {},
   "outputs": [
    {
     "name": "stdout",
     "output_type": "stream",
     "text": [
      "43.98192262649536\n"
     ]
    }
   ],
   "source": [
    "#coding: UTF-8\n",
    "from threading import Thread\n",
    "import time\n",
    "\n",
    "start_time = time.time()\n",
    "def prescript(thefile, num):\n",
    "    with open(thefile, 'w') as f:\n",
    "        for i in range(num):\n",
    "            if num > 500:\n",
    "                f.write('abc\\n')\n",
    "            else:\n",
    "                f.write('dcv\\n')\n",
    "\n",
    "thread1 = Thread(target=prescript, args=('f1.txt', 200,))\n",
    "thread2 = Thread(target=prescript, args=('f2.txt', 1000,))\n",
    "\n",
    "thread1.start()\n",
    "thread2.start()\n",
    "thread1.join()\n",
    "thread2.join()\n",
    "\n",
    "end_time = time.time()\n",
    "print(end_time - start_time)"
   ]
  },
  {
   "cell_type": "code",
   "execution_count": 4,
   "metadata": {},
   "outputs": [
    {
     "name": "stdout",
     "output_type": "stream",
     "text": [
      "Hello 0\n",
      "Hello 1\n",
      "finish\n",
      "0.014282464981079102\n"
     ]
    }
   ],
   "source": [
    "import threading\n",
    "import sys\n",
    "import time\n",
    "\n",
    "start_time = time.time()\n",
    "def thread_job(number):\n",
    "    print('Hello {}'.format(number))\n",
    "    sys.stdout.flush()\n",
    "\n",
    "def run_threads(count):\n",
    "    threads = [\n",
    "        threading.Thread(target = thread_job, args = (i, ))\n",
    "        for i in range(0, count)\n",
    "    ]\n",
    "    for thread in threads:\n",
    "        thread.start()  # каждый поток должен быть запущен\n",
    "    for thread in threads:\n",
    "        thread.join()  # дожидаемся исполнения всех потоков\n",
    "\n",
    "run_threads(2)\n",
    "print('finish')    \n",
    "end_time = time.time()\n",
    "print(end_time - start_time)"
   ]
  },
  {
   "cell_type": "code",
   "execution_count": 7,
   "metadata": {},
   "outputs": [
    {
     "name": "stdout",
     "output_type": "stream",
     "text": [
      "finish\n",
      "0.0010025501251220703\n"
     ]
    }
   ],
   "source": [
    "import threading\n",
    "import sys\n",
    "import time\n",
    "\n",
    "start_time = time.time()\n",
    "def thread_job(number):\n",
    "    time.sleep(2)  # \"усыпляем\" поток на 2 сек\n",
    "    print('Hello {}'.format(number))\n",
    "    sys.stdout.flush()\n",
    "\n",
    "\n",
    "def run_threads(count):\n",
    "    threads = [\n",
    "        threading.Thread(target=thread_job, args=(i,))\n",
    "        for i in range(1, count)\n",
    "    ]\n",
    "    for thread in threads:\n",
    "        thread.start()  # каждый поток должен быть запущен\n",
    "\n",
    "\n",
    "run_threads(1)\n",
    "print('finish')  \n",
    "end_time = time.time()\n",
    "print(end_time - start_time)"
   ]
  },
  {
   "cell_type": "code",
   "execution_count": 12,
   "metadata": {},
   "outputs": [
    {
     "name": "stdout",
     "output_type": "stream",
     "text": [
      "1 2 3 4 5 6 7 8 9 10 10\n"
     ]
    }
   ],
   "source": [
    "import threading\n",
    "import sys\n",
    "\n",
    "\n",
    "def thread_job():\n",
    "    global counter\n",
    "    old_counter = counter\n",
    "    counter = old_counter + 1\n",
    "    print('{} '.format(counter), end='')\n",
    "    sys.stdout.flush()\n",
    "\n",
    "\n",
    "counter = 0\n",
    "threads = [threading.Thread(target=thread_job) for _ in range(10)]\n",
    "for thread in threads:\n",
    "    thread.start()\n",
    "for thread in threads:\n",
    "    thread.join()\n",
    "print(counter)"
   ]
  },
  {
   "cell_type": "code",
   "execution_count": 16,
   "metadata": {},
   "outputs": [
    {
     "name": "stdout",
     "output_type": "stream",
     "text": [
      "1 2 3 4 5 6 1 2 2 6 6\n"
     ]
    }
   ],
   "source": [
    "import threading\n",
    "import random\n",
    "import time\n",
    "import sys\n",
    "\n",
    "\n",
    "def thread_job():\n",
    "    global counter\n",
    "    old_counter = counter\n",
    "    time.sleep(random.randint(0, 1))\n",
    "    counter = old_counter + 1\n",
    "    print('{} '.format(counter), end='')\n",
    "    sys.stdout.flush()\n",
    "\n",
    "\n",
    "counter = 0\n",
    "threads = [threading.Thread(target=thread_job) for _ in range(10)]\n",
    "for thread in threads:\n",
    "    thread.start()\n",
    "for thread in threads:\n",
    "    thread.join()\n",
    "print(counter)"
   ]
  },
  {
   "cell_type": "code",
   "execution_count": 5,
   "metadata": {},
   "outputs": [
    {
     "name": "stdout",
     "output_type": "stream",
     "text": [
      "Поток 0 засыпает на 5 секунд.\n",
      "\n",
      "Поток 1 засыпает на 5 секунд.\n",
      "\n",
      "Поток 2 засыпает на 5 секунд.\n",
      "\n",
      "Поток 3 засыпает на 5 секунд.\n",
      "\n",
      "Поток 4 засыпает на 5 секунд.\n",
      "\n",
      "Поток 5 засыпает на 5 секунд.\n",
      "\n",
      "Поток 6 засыпает на 5 секунд.\n",
      "\n",
      "Поток 7 засыпает на 5 секунд.\n",
      "\n",
      "Поток 8 засыпает на 5 секунд.\n",
      "\n",
      "Поток 9 засыпает на 5 секунд.\n",
      "\n"
     ]
    },
    {
     "name": "stdout",
     "output_type": "stream",
     "text": [
      "Поток 0 сейчас проснулся.\n",
      "\n",
      "Поток 2 сейчас проснулся.\n",
      "\n",
      "Поток 1 сейчас проснулся.\n",
      "\n",
      "Поток 3 сейчас проснулся.\n",
      "\n",
      "Поток 4 сейчас проснулся.\n",
      "\n",
      "Поток 5 сейчас проснулся.\n",
      "\n",
      "Поток 6 сейчас проснулся.\n",
      "\n",
      "Поток 8 сейчас проснулся.\n",
      "\n",
      "Поток 7 сейчас проснулся.\n",
      "\n",
      "Поток 9 сейчас проснулся.\n",
      "\n"
     ]
    }
   ],
   "source": [
    "import time\n",
    "from threading import Thread\n",
    "\n",
    "def sleepMe(i):\n",
    "    print(\"Поток %i засыпает на 5 секунд.\\n\" % i)\n",
    "    time.sleep(5)\n",
    "    print(\"Поток %i сейчас проснулся.\\n\" % i)\n",
    "for i in range(10):\n",
    "    th = Thread(target=sleepMe, args=(i, ))\n",
    "    th.start()"
   ]
  },
  {
   "cell_type": "code",
   "execution_count": 11,
   "metadata": {},
   "outputs": [
    {
     "name": "stdout",
     "output_type": "stream",
     "text": [
      "О чём вам напомнить?\n",
      "Через сколько минут?\n",
      "Пока поток работает, мы можем сделать что-нибудь ещё.\n",
      "\n",
      "0\n",
      "1\n",
      "2\n",
      "3\n",
      "4\n",
      "5\n",
      "6\n",
      "7\n",
      "8\n",
      "9\n"
     ]
    },
    {
     "name": "stdout",
     "output_type": "stream",
     "text": [
      "Попить воды\n",
      "Попить воды\n",
      "Попить воды\n"
     ]
    }
   ],
   "source": [
    "# Делаем отдельную функцию с напоминанием\n",
    "def remind():\n",
    "    # Спрашиваем текст напоминания, который нужно потом показать пользователю\n",
    "    print(\"О чём вам напомнить?\")\n",
    "    # Ждём ответа пользователя и результат помещаем в строковую переменную text\n",
    "    text = 'Попить воды'\n",
    "    # Спрашиваем про время\n",
    "    print(\"Через сколько минут?\")\n",
    "    # Тут будем хранить время, через которое нужно показать напоминание\n",
    "    local_time = float(1)\n",
    "    # Переводим минуты в секунды\n",
    "    local_time = local_time * 60\n",
    "    # Ждём нужное количество секунд, программа в это время ничего не делает\n",
    "    time.sleep(local_time)\n",
    "    # Показываем текст напоминания\n",
    "    print(text)\n",
    "\n",
    "# Создаём новый поток\n",
    "th = Thread(target=remind, args=())\n",
    "# И запускаем его\n",
    "th.start()\n",
    "# Пока работает поток, выведем что-то на экран через 20 секунд после запуска\n",
    "time.sleep(20)\n",
    "print(\"Пока поток работает, мы можем сделать что-нибудь ещё.\\n\")\n",
    "for i in range(10):\n",
    "    print(i)"
   ]
  },
  {
   "cell_type": "code",
   "execution_count": 8,
   "metadata": {},
   "outputs": [
    {
     "name": "stdout",
     "output_type": "stream",
     "text": [
      "0.004477024078369141\n"
     ]
    }
   ],
   "source": [
    "#coding: UTF-8\n",
    "from threading import Thread\n",
    "import time\n",
    "\n",
    "start_time = time.time()\n",
    "def prescript(thefile, num):\n",
    "    with open(thefile, 'w') as f:\n",
    "        for i in range(num):\n",
    "            if num > 500:\n",
    "                f.write('abc\\n')\n",
    "            else:\n",
    "                f.write('dcv\\n')\n",
    "\n",
    "for i in range(2):\n",
    "    if i ==0:\n",
    "        prescript('f1.txt', 200)\n",
    "    else:\n",
    "        prescript('f2.txt', 1000)\n",
    "end_time = time.time()\n",
    "print(end_time - start_time)"
   ]
  },
  {
   "cell_type": "code",
   "execution_count": 9,
   "metadata": {},
   "outputs": [
    {
     "name": "stdout",
     "output_type": "stream",
     "text": [
      "0\n",
      "1\n",
      "0\n",
      "1\n",
      "0\n",
      "1\n",
      "0\n",
      "1\n",
      "0\n",
      "1\n",
      "0\n",
      "1\n",
      "0\n",
      "1\n",
      "0\n",
      "1\n",
      "0\n",
      "1\n",
      "0\n",
      "1\n"
     ]
    }
   ],
   "source": [
    "import threading\n",
    "\n",
    "def writer(x, event_for_wait, event_for_set):\n",
    "    for i in range(10):\n",
    "        event_for_wait.wait() # wait for event\n",
    "        event_for_wait.clear() # clean event for future\n",
    "        print(x)\n",
    "        event_for_set.set() # set event for neighbor thread\n",
    "\n",
    "# init events\n",
    "e1 = threading.Event()\n",
    "e2 = threading.Event()\n",
    "\n",
    "# init threads\n",
    "t1 = threading.Thread(target=writer, args=(0, e1, e2))\n",
    "t2 = threading.Thread(target=writer, args=(1, e2, e1))\n",
    "\n",
    "# start threads\n",
    "t1.start()\n",
    "t2.start()\n",
    "\n",
    "e1.set() # initiate the first event\n",
    "\n",
    "# join threads to the main thread\n",
    "t1.join()\n",
    "t2.join()"
   ]
  }
 ],
 "metadata": {
  "kernelspec": {
   "display_name": "Python 3",
   "language": "python",
   "name": "python3"
  },
  "language_info": {
   "codemirror_mode": {
    "name": "ipython",
    "version": 3
   },
   "file_extension": ".py",
   "mimetype": "text/x-python",
   "name": "python",
   "nbconvert_exporter": "python",
   "pygments_lexer": "ipython3",
   "version": "3.11.2"
  },
  "orig_nbformat": 4,
  "vscode": {
   "interpreter": {
    "hash": "52634da84371cba311ea128a5ea7cdc41ff074b781779e754b270ff9f8153cee"
   }
  }
 },
 "nbformat": 4,
 "nbformat_minor": 2
}
