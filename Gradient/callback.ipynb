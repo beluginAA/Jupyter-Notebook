{
 "cells": [
  {
   "cell_type": "code",
   "execution_count": 7,
   "metadata": {},
   "outputs": [
    {
     "name": "stdout",
     "output_type": "stream",
     "text": [
      "43.98192262649536\n"
     ]
    }
   ],
   "source": [
    "#coding: UTF-8\n",
    "from threading import Thread\n",
    "import time\n",
    "\n",
    "start_time = time.time()\n",
    "def prescript(thefile, num):\n",
    "    with open(thefile, 'w') as f:\n",
    "        for i in range(num):\n",
    "            if num > 500:\n",
    "                f.write('abc\\n')\n",
    "            else:\n",
    "                f.write('dcv\\n')\n",
    "\n",
    "thread1 = Thread(target=prescript, args=('f1.txt', 200,))\n",
    "thread2 = Thread(target=prescript, args=('f2.txt', 1000,))\n",
    "\n",
    "thread1.start()\n",
    "thread2.start()\n",
    "thread1.join()\n",
    "thread2.join()\n",
    "\n",
    "end_time = time.time()\n",
    "print(end_time - start_time)"
   ]
  },
  {
   "cell_type": "code",
   "execution_count": 8,
   "metadata": {},
   "outputs": [
    {
     "name": "stdout",
     "output_type": "stream",
     "text": [
      "0.004477024078369141\n"
     ]
    }
   ],
   "source": [
    "#coding: UTF-8\n",
    "from threading import Thread\n",
    "import time\n",
    "\n",
    "start_time = time.time()\n",
    "def prescript(thefile, num):\n",
    "    with open(thefile, 'w') as f:\n",
    "        for i in range(num):\n",
    "            if num > 500:\n",
    "                f.write('abc\\n')\n",
    "            else:\n",
    "                f.write('dcv\\n')\n",
    "\n",
    "for i in range(2):\n",
    "    if i ==0:\n",
    "        prescript('f1.txt', 200)\n",
    "    else:\n",
    "        prescript('f2.txt', 1000)\n",
    "end_time = time.time()\n",
    "print(end_time - start_time)"
   ]
  },
  {
   "cell_type": "code",
   "execution_count": 9,
   "metadata": {},
   "outputs": [
    {
     "name": "stdout",
     "output_type": "stream",
     "text": [
      "0\n",
      "1\n",
      "0\n",
      "1\n",
      "0\n",
      "1\n",
      "0\n",
      "1\n",
      "0\n",
      "1\n",
      "0\n",
      "1\n",
      "0\n",
      "1\n",
      "0\n",
      "1\n",
      "0\n",
      "1\n",
      "0\n",
      "1\n"
     ]
    }
   ],
   "source": [
    "import threading\n",
    "\n",
    "def writer(x, event_for_wait, event_for_set):\n",
    "    for i in range(10):\n",
    "        event_for_wait.wait() # wait for event\n",
    "        event_for_wait.clear() # clean event for future\n",
    "        print(x)\n",
    "        event_for_set.set() # set event for neighbor thread\n",
    "\n",
    "# init events\n",
    "e1 = threading.Event()\n",
    "e2 = threading.Event()\n",
    "\n",
    "# init threads\n",
    "t1 = threading.Thread(target=writer, args=(0, e1, e2))\n",
    "t2 = threading.Thread(target=writer, args=(1, e2, e1))\n",
    "\n",
    "# start threads\n",
    "t1.start()\n",
    "t2.start()\n",
    "\n",
    "e1.set() # initiate the first event\n",
    "\n",
    "# join threads to the main thread\n",
    "t1.join()\n",
    "t2.join()"
   ]
  }
 ],
 "metadata": {
  "kernelspec": {
   "display_name": "Python 3",
   "language": "python",
   "name": "python3"
  },
  "language_info": {
   "codemirror_mode": {
    "name": "ipython",
    "version": 3
   },
   "file_extension": ".py",
   "mimetype": "text/x-python",
   "name": "python",
   "nbconvert_exporter": "python",
   "pygments_lexer": "ipython3",
   "version": "3.11.2"
  },
  "orig_nbformat": 4,
  "vscode": {
   "interpreter": {
    "hash": "52634da84371cba311ea128a5ea7cdc41ff074b781779e754b270ff9f8153cee"
   }
  }
 },
 "nbformat": 4,
 "nbformat_minor": 2
}
